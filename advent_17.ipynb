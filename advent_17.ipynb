{
 "cells": [
  {
   "cell_type": "code",
   "execution_count": 1,
   "metadata": {
    "collapsed": true
   },
   "outputs": [],
   "source": [
    "import hashlib\n",
    "import copy\n",
    "import queue"
   ]
  },
  {
   "cell_type": "markdown",
   "metadata": {},
   "source": [
    "## Part 1"
   ]
  },
  {
   "cell_type": "code",
   "execution_count": 162,
   "metadata": {
    "collapsed": false
   },
   "outputs": [],
   "source": [
    "class Room():\n",
    "    \n",
    "    def __init__(self,pos_x, pos_y):\n",
    "        self.pos_x = pos_x\n",
    "        self.pos_y = pos_y\n",
    "        if self.pos_y == 0:\n",
    "            self.updoor = Door(False)\n",
    "        else:\n",
    "            self.updoor = Door(True)\n",
    "        if self.pos_y == 3:\n",
    "            self.downdoor = Door(False)\n",
    "        else:\n",
    "            self.downdoor = Door(True)\n",
    "        if self.pos_x == 0:\n",
    "            self.leftdoor = Door(False)\n",
    "        else:\n",
    "            self.leftdoor = Door(True)\n",
    "        if self.pos_x == 3:\n",
    "            self.rightdoor = Door(False)\n",
    "        else:\n",
    "            self.rightdoor = Door(True)\n",
    "            \n",
    "    def check_doors(self, code):\n",
    "        if code[0] in ('b','c','d','e','f') and self.updoor.return_isdoor():\n",
    "            self.updoor.open_door()\n",
    "        if code[1] in ('b','c','d','e','f') and self.downdoor.return_isdoor():\n",
    "            self.downdoor.open_door()\n",
    "        if code[2] in ('b','c','d','e','f') and self.leftdoor.return_isdoor():\n",
    "            self.leftdoor.open_door()\n",
    "        if code[3] in ('b','c','d','e','f') and self.rightdoor.return_isdoor():\n",
    "            self.rightdoor.open_door()\n",
    "\n",
    "    def where_can_i_go(self):\n",
    "        steps = []\n",
    "        if self.updoor.return_isopen():\n",
    "            steps.append('U')\n",
    "        if self.downdoor.return_isopen():\n",
    "            steps.append('D')\n",
    "        if self.leftdoor.return_isopen():\n",
    "            steps.append('L')\n",
    "        if self.rightdoor.return_isopen():\n",
    "            steps.append('R')\n",
    "        return steps\n",
    "            \n",
    "    def is_vault(self):\n",
    "        if self.pos_x == 3 and self.pos_y == 3:\n",
    "            return True\n",
    "        return False\n",
    "    \n",
    "    def get_pos(self):\n",
    "        return (self.pos_x, self.pos_y)\n",
    "    \n",
    "    \n",
    "        \n",
    "class Door():\n",
    "    \n",
    "    def __init__(self, isdoor):\n",
    "        self.isdoor = isdoor\n",
    "        self.isopen = False\n",
    "        \n",
    "    def open_door(self):\n",
    "        if not self.isdoor:\n",
    "            return 'Error'\n",
    "        self.isopen = True\n",
    "        \n",
    "    def return_isopen(self):\n",
    "        if self.isopen:\n",
    "            return True\n",
    "        return False\n",
    "    \n",
    "    def return_isdoor(self):\n",
    "        return self.isdoor\n",
    "        \n",
    "        \n",
    "class Route():\n",
    "    \n",
    "    def __init__(self):\n",
    "        self.steps = ''\n",
    "        \n",
    "    def add_step(self, step):\n",
    "        self.steps += step\n",
    "        \n",
    "    def print_route(self):\n",
    "        print (self.steps)\n",
    "        \n",
    "    def route_len(self):\n",
    "        return len(self.steps)\n",
    "        \n",
    "    def return_code(self):\n",
    "        m = hashlib.md5()\n",
    "        m.update(b\"rrrbmfta\")\n",
    "        m.update(str.encode(self.steps))\n",
    "        code = m.hexdigest()[:4]\n",
    "        \n",
    "        return code\n",
    "    \n",
    "class Node():\n",
    "    def __init__(self, route, room):\n",
    "        self.route = route\n",
    "        self.room = room\n",
    "        \n",
    "    def evaluate(self):\n",
    "        if self.room.is_vault():\n",
    "            return True\n",
    "        return False\n",
    "    \n",
    "    def goal_estimate(self):\n",
    "        return abs(3-self.room.get_pos()[0]) + abs(3-self.room.get_pos()[1])\n",
    "    \n",
    "    def nexts(self):        \n",
    "        code = self.route.return_code()\n",
    "        self.room.check_doors(code)\n",
    "        directions = self.room.where_can_i_go()\n",
    "        for d in directions:\n",
    "            if d == 'D' and self.room.get_pos()[1] < 3:\n",
    "                new_route = copy.copy(self.route)\n",
    "                new_route.add_step('D')\n",
    "                new_room = Room(self.room.get_pos()[0],self.room.get_pos()[1]+1)\n",
    "                yield (Node(new_route,new_room))\n",
    "            if d == 'R' and self.room.get_pos()[0] < 3:\n",
    "                new_route = copy.copy(self.route)\n",
    "                new_route.add_step('R')\n",
    "                new_room = Room(self.room.get_pos()[0]+1,self.room.get_pos()[1])\n",
    "                yield (Node(new_route,new_room))\n",
    "            if d == 'U' and self.room.get_pos()[1] > 0:\n",
    "                new_route = copy.copy(self.route)\n",
    "                new_route.add_step('U')\n",
    "                new_room = Room(self.room.get_pos()[0],self.room.get_pos()[1]-1)\n",
    "                yield (Node(new_route,new_room))\n",
    "            if d == 'L' and self.room.get_pos()[0] > 0:\n",
    "                new_route = copy.copy(self.route)\n",
    "                new_route.add_step('L')\n",
    "                new_room = Room(self.room.get_pos()[0]-1,self.room.get_pos()[1])\n",
    "                yield (Node(new_route,new_room))\n",
    "                "
   ]
  },
  {
   "cell_type": "code",
   "execution_count": 91,
   "metadata": {
    "collapsed": true
   },
   "outputs": [],
   "source": [
    "def search(starting_node):\n",
    "    q = queue.PriorityQueue()\n",
    "    q.put((0 + starting_node.goal_estimate(), 0,0, starting_node))\n",
    "    fake_iter = 1\n",
    "    while not q.empty():\n",
    "        (estimated_cost, spent_cost,fake_iter_nouse, node) = q.get()\n",
    "        for n in node.nexts():\n",
    "            if n.evaluate():\n",
    "                print ('jee', n.route.print_route())\n",
    "                return n\n",
    "            new_cost = spent_cost + 1\n",
    "            q.put((new_cost + n.goal_estimate(), new_cost, fake_iter, n))\n",
    "\n",
    "            fake_iter += 1"
   ]
  },
  {
   "cell_type": "code",
   "execution_count": 92,
   "metadata": {
    "collapsed": false
   },
   "outputs": [
    {
     "name": "stdout",
     "output_type": "stream",
     "text": [
      "RLRDRDUDDR\n",
      "jee None\n"
     ]
    }
   ],
   "source": [
    "n = search(Node(Route(), Room(0,0)))"
   ]
  },
  {
   "cell_type": "markdown",
   "metadata": {
    "collapsed": true
   },
   "source": [
    "## Part 2"
   ]
  },
  {
   "cell_type": "code",
   "execution_count": 163,
   "metadata": {
    "collapsed": false
   },
   "outputs": [],
   "source": [
    "def search(starting_node):\n",
    "    q = queue.Queue()\n",
    "    q.put(starting_node)\n",
    "    routes = []\n",
    "    while not q.empty():\n",
    "        node = q.get()\n",
    "        for n in node.nexts():\n",
    "            if n.evaluate():\n",
    "                routes.append(n.route.route_len()) \n",
    "            else:                \n",
    "                q.put(n)\n",
    "    return max(routes)"
   ]
  },
  {
   "cell_type": "code",
   "execution_count": 164,
   "metadata": {
    "collapsed": false
   },
   "outputs": [
    {
     "data": {
      "text/plain": [
       "420"
      ]
     },
     "execution_count": 164,
     "metadata": {},
     "output_type": "execute_result"
    }
   ],
   "source": [
    "search(Node(Route(), Room(0,0)))"
   ]
  },
  {
   "cell_type": "code",
   "execution_count": null,
   "metadata": {
    "collapsed": true
   },
   "outputs": [],
   "source": []
  }
 ],
 "metadata": {
  "kernelspec": {
   "display_name": "Python 3",
   "language": "python",
   "name": "python3"
  },
  "language_info": {
   "codemirror_mode": {
    "name": "ipython",
    "version": 3
   },
   "file_extension": ".py",
   "mimetype": "text/x-python",
   "name": "python",
   "nbconvert_exporter": "python",
   "pygments_lexer": "ipython3",
   "version": "3.6.0"
  }
 },
 "nbformat": 4,
 "nbformat_minor": 2
}
