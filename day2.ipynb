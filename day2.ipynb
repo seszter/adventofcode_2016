{
 "cells": [
  {
   "cell_type": "code",
   "execution_count": 36,
   "metadata": {
    "collapsed": false
   },
   "outputs": [],
   "source": [
    "with open('day2.txt') as f:\n",
    "    content = f.readlines()\n",
    "content = [x.split(',')[0].strip('\\n') for x in content]"
   ]
  },
  {
   "cell_type": "markdown",
   "metadata": {},
   "source": [
    "### part 1"
   ]
  },
  {
   "cell_type": "code",
   "execution_count": 39,
   "metadata": {
    "collapsed": true
   },
   "outputs": [],
   "source": [
    "keypad = [[1,2,3],[4,5,6],[7,8,9]]"
   ]
  },
  {
   "cell_type": "code",
   "execution_count": 75,
   "metadata": {
    "collapsed": false
   },
   "outputs": [],
   "source": [
    "def validmove(start,move):\n",
    "    if (move in ('L','U')) & (start - 1 > -1):\n",
    "        return True\n",
    "    elif (move in ('R','D')) & (start + 1 < 3):\n",
    "        return True\n",
    "    else:\n",
    "        return False"
   ]
  },
  {
   "cell_type": "code",
   "execution_count": 95,
   "metadata": {
    "collapsed": false
   },
   "outputs": [
    {
     "name": "stdout",
     "output_type": "stream",
     "text": [
      "9\n",
      "7\n",
      "2\n",
      "8\n",
      "9\n"
     ]
    }
   ],
   "source": [
    "key = [1,1]\n",
    "for i in range(0,len(content)):\n",
    "    for d in content[i]:\n",
    "        if (d in ('L','R')) & (validmove(key[1],d)):\n",
    "                if d=='L':\n",
    "                    key = [key[0],key[1]-1]\n",
    "                else:\n",
    "                    key = [key[0],key[1]+1]\n",
    "        elif (d in ('U','D')) & (validmove(key[0],d)):\n",
    "                if d=='U':\n",
    "                    key = [key[0]-1,key[1]]\n",
    "                else:\n",
    "                    key = [key[0]+1,key[1]]\n",
    "    print (keypad[key[0]][key[1]])"
   ]
  },
  {
   "cell_type": "markdown",
   "metadata": {},
   "source": [
    "### part 2"
   ]
  },
  {
   "cell_type": "code",
   "execution_count": 125,
   "metadata": {
    "collapsed": false
   },
   "outputs": [],
   "source": [
    "keypad_true = [[0,0,1,0,0],[0,2,3,4,0],[5,6,7,8,9],[0,'A','B','C',0],[0,0,'D',0,0]]\n",
    "keypad = [[0,0,1,0,0],[0,1,1,1,0],[1,1,1,1,1],[0,1,1,1,0],[0,0,1,0,0]]"
   ]
  },
  {
   "cell_type": "code",
   "execution_count": 133,
   "metadata": {
    "collapsed": true
   },
   "outputs": [],
   "source": [
    "def validmove(key,d):\n",
    "    if d=='L':\n",
    "        key = [key[0],key[1]-1]\n",
    "    elif d=='R':\n",
    "        key = [key[0],key[1]+1]\n",
    "    elif d=='U':\n",
    "        key = [key[0]-1,key[1]]\n",
    "    else:\n",
    "        key = [key[0]+1,key[1]]\n",
    "    if (key[0] <0) or (key[1]<0):\n",
    "        return False\n",
    "    try:\n",
    "        if keypad[key[0]][key[1]] == 1:\n",
    "            return key\n",
    "        else:\n",
    "            return False\n",
    "    except:\n",
    "        return False"
   ]
  },
  {
   "cell_type": "code",
   "execution_count": 135,
   "metadata": {
    "collapsed": false
   },
   "outputs": [
    {
     "name": "stdout",
     "output_type": "stream",
     "text": [
      "9\n",
      "A\n",
      "7\n",
      "D\n",
      "C\n"
     ]
    }
   ],
   "source": [
    "key = [2,0]\n",
    "for i in range(0,len(content)):\n",
    "    for d in content[i]:\n",
    "        if validmove(key,d):\n",
    "            key = validmove(key,d)\n",
    "    print (keypad_true[key[0]][key[1]])"
   ]
  },
  {
   "cell_type": "code",
   "execution_count": null,
   "metadata": {
    "collapsed": true
   },
   "outputs": [],
   "source": []
  }
 ],
 "metadata": {
  "kernelspec": {
   "display_name": "Python 3",
   "language": "python",
   "name": "python3"
  },
  "language_info": {
   "codemirror_mode": {
    "name": "ipython",
    "version": 3
   },
   "file_extension": ".py",
   "mimetype": "text/x-python",
   "name": "python",
   "nbconvert_exporter": "python",
   "pygments_lexer": "ipython3",
   "version": "3.4.3"
  }
 },
 "nbformat": 4,
 "nbformat_minor": 0
}
