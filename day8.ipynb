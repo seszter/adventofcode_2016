{
 "cells": [
  {
   "cell_type": "code",
   "execution_count": 1,
   "metadata": {
    "collapsed": true
   },
   "outputs": [],
   "source": [
    "with open('day8.txt') as f:\n",
    "    content = f.readlines()\n",
    "content = [x.strip('\\n') for x in content]"
   ]
  },
  {
   "cell_type": "markdown",
   "metadata": {},
   "source": [
    "### part 1"
   ]
  },
  {
   "cell_type": "code",
   "execution_count": 26,
   "metadata": {
    "collapsed": false
   },
   "outputs": [],
   "source": [
    "import numpy as np\n",
    "import re"
   ]
  },
  {
   "cell_type": "code",
   "execution_count": 100,
   "metadata": {
    "collapsed": true
   },
   "outputs": [],
   "source": [
    "def rect(x,y,screen):\n",
    "    screen[:y,:x] = 1\n",
    "    return screen"
   ]
  },
  {
   "cell_type": "code",
   "execution_count": 92,
   "metadata": {
    "collapsed": false
   },
   "outputs": [],
   "source": [
    "def rotate_row(x,step,screen):\n",
    "    lights = np.nonzero(screen[x,:])[0]\n",
    "    screen[x,:] = 0\n",
    "    for light in lights:\n",
    "        if light + step < screen.shape[1]:\n",
    "            screen[x,light+step]=1\n",
    "        else:\n",
    "            screen[x,light+step-screen.shape[1]]=1\n",
    "    return screen"
   ]
  },
  {
   "cell_type": "code",
   "execution_count": 93,
   "metadata": {
    "collapsed": true
   },
   "outputs": [],
   "source": [
    "def rotate_col(y,step,screen):\n",
    "    lights = np.nonzero(screen[:,y])[0]\n",
    "    screen[:,y]=0\n",
    "    for light in lights:\n",
    "        if light + step < screen.shape[0]:\n",
    "            screen[light+step,y]=1\n",
    "        else:\n",
    "            screen[light+step-screen.shape[0],y]=1\n",
    "    return screen"
   ]
  },
  {
   "cell_type": "code",
   "execution_count": 110,
   "metadata": {
    "collapsed": false
   },
   "outputs": [],
   "source": [
    "screen = np.zeros((6,50))\n",
    "for con in content:\n",
    "    x = int(re.findall(\"\\d+\", con)[0])\n",
    "    y = int(re.findall(\"\\d+\", con)[1])\n",
    "    if 'rect' in con:\n",
    "        screen = rect(x,y,screen)\n",
    "    if 'column' in con:\n",
    "        screen = rotate_col(x,y,screen)\n",
    "    if 'row' in con:\n",
    "        screen = rotate_row(x,y,screen)        "
   ]
  },
  {
   "cell_type": "code",
   "execution_count": 112,
   "metadata": {
    "collapsed": false
   },
   "outputs": [
    {
     "data": {
      "text/plain": [
       "119.0"
      ]
     },
     "execution_count": 112,
     "metadata": {},
     "output_type": "execute_result"
    }
   ],
   "source": [
    "np.sum(screen)"
   ]
  },
  {
   "cell_type": "markdown",
   "metadata": {},
   "source": [
    "### part 2"
   ]
  },
  {
   "cell_type": "code",
   "execution_count": 129,
   "metadata": {
    "collapsed": false
   },
   "outputs": [
    {
     "name": "stdout",
     "output_type": "stream",
     "text": [
      "[[ 1.  1.  1.  1.  0.]\n",
      " [ 0.  0.  0.  1.  0.]\n",
      " [ 0.  0.  1.  0.  0.]\n",
      " [ 0.  1.  0.  0.  0.]\n",
      " [ 1.  0.  0.  0.  0.]\n",
      " [ 1.  1.  1.  1.  0.]]\n",
      "\n",
      "[[ 1.  1.  1.  1.  0.]\n",
      " [ 1.  0.  0.  0.  0.]\n",
      " [ 1.  1.  1.  0.  0.]\n",
      " [ 1.  0.  0.  0.  0.]\n",
      " [ 1.  0.  0.  0.  0.]\n",
      " [ 1.  0.  0.  0.  0.]]\n",
      "\n",
      "[[ 1.  0.  0.  1.  0.]\n",
      " [ 1.  0.  0.  1.  0.]\n",
      " [ 1.  1.  1.  1.  0.]\n",
      " [ 1.  0.  0.  1.  0.]\n",
      " [ 1.  0.  0.  1.  0.]\n",
      " [ 1.  0.  0.  1.  0.]]\n",
      "\n",
      "[[ 1.  1.  1.  1.  0.]\n",
      " [ 1.  0.  0.  0.  0.]\n",
      " [ 1.  1.  1.  0.  0.]\n",
      " [ 1.  0.  0.  0.  0.]\n",
      " [ 1.  0.  0.  0.  0.]\n",
      " [ 1.  0.  0.  0.  0.]]\n",
      "\n",
      "[[ 0.  1.  1.  1.  0.]\n",
      " [ 1.  0.  0.  0.  0.]\n",
      " [ 1.  0.  0.  0.  0.]\n",
      " [ 0.  1.  1.  0.  0.]\n",
      " [ 0.  0.  0.  1.  0.]\n",
      " [ 1.  1.  1.  0.  0.]]\n",
      "\n",
      "[[ 1.  1.  1.  1.  0.]\n",
      " [ 1.  0.  0.  0.  0.]\n",
      " [ 1.  1.  1.  0.  0.]\n",
      " [ 1.  0.  0.  0.  0.]\n",
      " [ 1.  0.  0.  0.  0.]\n",
      " [ 1.  0.  0.  0.  0.]]\n",
      "\n",
      "[[ 0.  1.  1.  0.  0.]\n",
      " [ 1.  0.  0.  1.  0.]\n",
      " [ 1.  0.  0.  1.  0.]\n",
      " [ 1.  0.  0.  1.  0.]\n",
      " [ 1.  0.  0.  1.  0.]\n",
      " [ 0.  1.  1.  0.  0.]]\n",
      "\n",
      "[[ 0.  1.  1.  0.  0.]\n",
      " [ 1.  0.  0.  1.  0.]\n",
      " [ 1.  0.  0.  0.  0.]\n",
      " [ 1.  0.  1.  1.  0.]\n",
      " [ 1.  0.  0.  1.  0.]\n",
      " [ 0.  1.  1.  1.  0.]]\n",
      "\n",
      "[[ 1.  1.  1.  0.  0.]\n",
      " [ 1.  0.  0.  1.  0.]\n",
      " [ 1.  0.  0.  1.  0.]\n",
      " [ 1.  1.  1.  0.  0.]\n",
      " [ 1.  0.  0.  0.  0.]\n",
      " [ 1.  0.  0.  0.  0.]]\n",
      "\n",
      "[[ 0.  1.  1.  0.  0.]\n",
      " [ 1.  0.  0.  1.  0.]\n",
      " [ 1.  0.  0.  1.  0.]\n",
      " [ 1.  0.  0.  1.  0.]\n",
      " [ 1.  0.  0.  1.  0.]\n",
      " [ 0.  1.  1.  0.  0.]]\n",
      "\n"
     ]
    }
   ],
   "source": [
    "for x in range(0,50,5):\n",
    "    print (screen[:,x:x+5])\n",
    "    print ()"
   ]
  },
  {
   "cell_type": "code",
   "execution_count": null,
   "metadata": {
    "collapsed": true
   },
   "outputs": [],
   "source": []
  }
 ],
 "metadata": {
  "kernelspec": {
   "display_name": "Python 3",
   "language": "python",
   "name": "python3"
  },
  "language_info": {
   "codemirror_mode": {
    "name": "ipython",
    "version": 3
   },
   "file_extension": ".py",
   "mimetype": "text/x-python",
   "name": "python",
   "nbconvert_exporter": "python",
   "pygments_lexer": "ipython3",
   "version": "3.5.1"
  }
 },
 "nbformat": 4,
 "nbformat_minor": 0
}
