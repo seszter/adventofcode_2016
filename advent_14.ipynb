{
 "cells": [
  {
   "cell_type": "code",
   "execution_count": 1,
   "metadata": {
    "collapsed": true
   },
   "outputs": [],
   "source": [
    "import hashlib"
   ]
  },
  {
   "cell_type": "markdown",
   "metadata": {},
   "source": [
    "## Part 1"
   ]
  },
  {
   "cell_type": "code",
   "execution_count": 20,
   "metadata": {
    "collapsed": true
   },
   "outputs": [],
   "source": [
    "def three_same(text):\n",
    "    for i in range(1,len(text)-1):\n",
    "        if text[i-1]==text[i]==text[i+1]:\n",
    "            return text[i]    \n",
    "    return 'not_found'"
   ]
  },
  {
   "cell_type": "code",
   "execution_count": 28,
   "metadata": {
    "collapsed": true
   },
   "outputs": [],
   "source": [
    "def five_same(letter,text):\n",
    "    indeces = [pos for pos, char in enumerate(text) if char == letter]    \n",
    "    j = 0\n",
    "    for i in range(len(indeces)-1):\n",
    "        if indeces[i+1] - indeces[i]==1:\n",
    "            j += 1\n",
    "            if j==4:\n",
    "                return True\n",
    "        else:\n",
    "            j = 0\n",
    "\n",
    "    return False"
   ]
  },
  {
   "cell_type": "code",
   "execution_count": 45,
   "metadata": {
    "collapsed": false
   },
   "outputs": [
    {
     "name": "stdout",
     "output_type": "stream",
     "text": [
      "15168\n"
     ]
    }
   ],
   "source": [
    "step = 0\n",
    "keys = 0\n",
    "while keys<64:\n",
    "    m = hashlib.md5()\n",
    "    m.update(b\"qzyelonm\")\n",
    "    m.update(str.encode(str(step)))\n",
    "    text = m.hexdigest()\n",
    "    letter = three_same(text)\n",
    "    if letter != 'not_found':\n",
    "        step2 = 1\n",
    "        while step2<1002:\n",
    "            m = hashlib.md5()\n",
    "            m.update(b\"qzyelonm\")\n",
    "            m.update(str.encode(str(step+step2)))\n",
    "            text = m.hexdigest()\n",
    "            if five_same(letter,text):\n",
    "                keys += 1\n",
    "                if keys==64:\n",
    "                        print (step)\n",
    "                break\n",
    "            step2 += 1\n",
    "    step += 1"
   ]
  },
  {
   "cell_type": "markdown",
   "metadata": {},
   "source": [
    "## Part 2"
   ]
  },
  {
   "cell_type": "code",
   "execution_count": 67,
   "metadata": {
    "collapsed": true
   },
   "outputs": [],
   "source": [
    "hexas = []\n",
    "for step in range(40000):\n",
    "    m = hashlib.md5()\n",
    "    m.update(b\"qzyelonm\")\n",
    "    m.update(str.encode(str(step)))\n",
    "    text = m.hexdigest()\n",
    "    for i in range(2016):\n",
    "        m = hashlib.md5()\n",
    "        m.update(str.encode(text))\n",
    "        text = m.hexdigest()\n",
    "    hexas.append(text)"
   ]
  },
  {
   "cell_type": "code",
   "execution_count": 68,
   "metadata": {
    "collapsed": false
   },
   "outputs": [
    {
     "data": {
      "text/plain": [
       "40000"
      ]
     },
     "execution_count": 68,
     "metadata": {},
     "output_type": "execute_result"
    }
   ],
   "source": [
    "len(hexas)"
   ]
  },
  {
   "cell_type": "code",
   "execution_count": 69,
   "metadata": {
    "collapsed": false
   },
   "outputs": [
    {
     "name": "stdout",
     "output_type": "stream",
     "text": [
      "1000 0\n",
      "2000 0\n",
      "3000 1\n",
      "4000 14\n",
      "5000 21\n",
      "6000 32\n",
      "7000 32\n",
      "8000 32\n",
      "9000 32\n",
      "10000 32\n",
      "11000 37\n",
      "12000 41\n",
      "13000 43\n",
      "14000 47\n",
      "15000 47\n",
      "16000 47\n",
      "17000 56\n",
      "18000 58\n",
      "19000 58\n",
      "20000 58\n",
      "20864\n"
     ]
    }
   ],
   "source": [
    "step = 0\n",
    "keys = 0\n",
    "while keys<64:\n",
    "    text = hexas[step]\n",
    "    letter = three_same(text)\n",
    "    if letter != 'not_found':\n",
    "        step2 = 1\n",
    "        while step2<1002:\n",
    "            text = hexas[step+step2]\n",
    "            if five_same(letter,text):\n",
    "                keys += 1\n",
    "                if keys==64:\n",
    "                        print (step)\n",
    "                break\n",
    "            step2 += 1\n",
    "    step += 1\n",
    "    if step % 1000 == 0:\n",
    "        print (step, keys)"
   ]
  },
  {
   "cell_type": "code",
   "execution_count": null,
   "metadata": {
    "collapsed": true
   },
   "outputs": [],
   "source": []
  }
 ],
 "metadata": {
  "kernelspec": {
   "display_name": "Python 3",
   "language": "python",
   "name": "python3"
  },
  "language_info": {
   "codemirror_mode": {
    "name": "ipython",
    "version": 3
   },
   "file_extension": ".py",
   "mimetype": "text/x-python",
   "name": "python",
   "nbconvert_exporter": "python",
   "pygments_lexer": "ipython3",
   "version": "3.6.0"
  }
 },
 "nbformat": 4,
 "nbformat_minor": 2
}
