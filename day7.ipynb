{
 "cells": [
  {
   "cell_type": "code",
   "execution_count": 1,
   "metadata": {
    "collapsed": true
   },
   "outputs": [],
   "source": [
    "with open('day7.txt') as f:\n",
    "    content = f.readlines()\n",
    "content = [x.strip('\\n') for x in content]"
   ]
  },
  {
   "cell_type": "markdown",
   "metadata": {},
   "source": [
    "### part 1"
   ]
  },
  {
   "cell_type": "code",
   "execution_count": 21,
   "metadata": {
    "collapsed": false
   },
   "outputs": [],
   "source": [
    "def abba(string):\n",
    "    sliding_window = [string[i:i+4] for i in range(0,len(string)-3)]\n",
    "    for sw in sliding_window:\n",
    "        if (sw[0]==sw[3]) & (sw[1]==sw[2]) & (sw[0]!=sw[1]):\n",
    "            return True\n",
    "    return False\n",
    "        "
   ]
  },
  {
   "cell_type": "code",
   "execution_count": 52,
   "metadata": {
    "collapsed": false
   },
   "outputs": [
    {
     "data": {
      "text/plain": [
       "118"
      ]
     },
     "execution_count": 52,
     "metadata": {},
     "output_type": "execute_result"
    }
   ],
   "source": [
    "result = 0\n",
    "for con in content:\n",
    "    bad = 0\n",
    "    good = 0\n",
    "    splitted = (']'+con).split('[')\n",
    "    for sp in splitted:\n",
    "        if abba(sp.split(']')[0]):\n",
    "            bad = 1\n",
    "        elif abba(sp.split(']')[1]):\n",
    "            good = 1\n",
    "    if (good==1) & (bad==0):\n",
    "        result += 1\n",
    "result        \n"
   ]
  },
  {
   "cell_type": "markdown",
   "metadata": {},
   "source": [
    "### part 2"
   ]
  },
  {
   "cell_type": "code",
   "execution_count": 112,
   "metadata": {
    "collapsed": true
   },
   "outputs": [],
   "source": [
    "def bab(string):\n",
    "    babs = []\n",
    "    sliding_window = [string[i:i+3] for i in range(0,len(string)-2)]\n",
    "    for sw in sliding_window:\n",
    "        if (sw[0]==sw[2]) & (sw[0]!=sw[1]):\n",
    "            babs.append(sw)\n",
    "    return babs\n",
    "        "
   ]
  },
  {
   "cell_type": "code",
   "execution_count": 132,
   "metadata": {
    "collapsed": false
   },
   "outputs": [
    {
     "data": {
      "text/plain": [
       "260"
      ]
     },
     "execution_count": 132,
     "metadata": {},
     "output_type": "execute_result"
    }
   ],
   "source": [
    "result = 0\n",
    "for con in content:\n",
    "    inside = []\n",
    "    outside = []\n",
    "    good = 0\n",
    "    splitted = (']'+con).split('[')\n",
    "    for sp in splitted:\n",
    "        inside.append(sp.split(']')[0])\n",
    "        outside.append(sp.split(']')[1])\n",
    "    outbabs = []\n",
    "    for outs in outside:\n",
    "        outbabs += (bab(outs))\n",
    "    if len(outbabs) > 0:\n",
    "        for outbab in set(outbabs):\n",
    "            for ins in inside:\n",
    "                if outbab[1] + outbab[0] + outbab[1] in ins:\n",
    "                    good = 1\n",
    "    if good == 1:\n",
    "        result += 1\n",
    "\n",
    "result        \n"
   ]
  },
  {
   "cell_type": "code",
   "execution_count": null,
   "metadata": {
    "collapsed": true
   },
   "outputs": [],
   "source": []
  }
 ],
 "metadata": {
  "kernelspec": {
   "display_name": "Python 3",
   "language": "python",
   "name": "python3"
  },
  "language_info": {
   "codemirror_mode": {
    "name": "ipython",
    "version": 3
   },
   "file_extension": ".py",
   "mimetype": "text/x-python",
   "name": "python",
   "nbconvert_exporter": "python",
   "pygments_lexer": "ipython3",
   "version": "3.5.1"
  }
 },
 "nbformat": 4,
 "nbformat_minor": 0
}
