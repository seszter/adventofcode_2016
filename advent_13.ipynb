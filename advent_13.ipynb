{
 "cells": [
  {
   "cell_type": "markdown",
   "metadata": {},
   "source": [
    "## Part 1"
   ]
  },
  {
   "cell_type": "code",
   "execution_count": 87,
   "metadata": {
    "collapsed": false
   },
   "outputs": [],
   "source": [
    "import queue"
   ]
  },
  {
   "cell_type": "code",
   "execution_count": 88,
   "metadata": {
    "collapsed": true
   },
   "outputs": [],
   "source": [
    "def is_wall(pos):\n",
    "    x = pos[0]\n",
    "    y = pos[1]\n",
    "    binary = bin(x*x + 3*x + 2*x*y + y + y*y + 1362)\n",
    "    if binary[2:].count('1') % 2 == 0:\n",
    "        return False\n",
    "    return True"
   ]
  },
  {
   "cell_type": "code",
   "execution_count": 89,
   "metadata": {
    "collapsed": false
   },
   "outputs": [],
   "source": [
    "def neighbors(pos):\n",
    "    res = []\n",
    "    for i in [-1,0,1]:\n",
    "        for j in [-1,0,1]:\n",
    "            new_x = pos[0] + i\n",
    "            new_y = pos[1] + j\n",
    "            if new_x >= 0 and new_y >= 0 and abs(i+j)==1:\n",
    "                if not is_wall((new_x,new_y)):\n",
    "                    res.append((new_x,new_y))\n",
    "    return res"
   ]
  },
  {
   "cell_type": "code",
   "execution_count": 90,
   "metadata": {
    "collapsed": true
   },
   "outputs": [],
   "source": [
    "def goal_estimate(pos):\n",
    "    return abs(31-pos[0]) + abs(39-pos[1])"
   ]
  },
  {
   "cell_type": "code",
   "execution_count": 94,
   "metadata": {
    "collapsed": true
   },
   "outputs": [],
   "source": [
    "def search(starting_pos):\n",
    "    q = queue.PriorityQueue()\n",
    "    visited = set([])\n",
    "    q.put((0 + goal_estimate(starting_pos), 0, starting_pos))\n",
    "    while not q.empty():\n",
    "        (estimated_cost, spent_cost, pos) = q.get()\n",
    "        nexts = neighbors(pos)\n",
    "        for n in nexts:\n",
    "            if n in visited or is_wall(pos):\n",
    "                continue\n",
    "            new_cost = spent_cost + 1\n",
    "            if n == (31,39):\n",
    "                return (new_cost, visited)\n",
    "            visited.add(n)\n",
    "            q.put_nowait((new_cost + goal_estimate(n), new_cost, n))\n",
    "            \n",
    "            \n",
    "            "
   ]
  },
  {
   "cell_type": "code",
   "execution_count": 95,
   "metadata": {
    "collapsed": false
   },
   "outputs": [],
   "source": [
    "steps, route = search((1,1))"
   ]
  },
  {
   "cell_type": "code",
   "execution_count": 96,
   "metadata": {
    "collapsed": false
   },
   "outputs": [
    {
     "data": {
      "text/plain": [
       "82"
      ]
     },
     "execution_count": 96,
     "metadata": {},
     "output_type": "execute_result"
    }
   ],
   "source": [
    "steps"
   ]
  },
  {
   "cell_type": "code",
   "execution_count": 99,
   "metadata": {
    "collapsed": false
   },
   "outputs": [
    {
     "name": "stdout",
     "output_type": "stream",
     "text": [
      "# o o # # # o # . . . # . . # . . . . # # . # . . . # . . . . # . . . . # . . # . # . # # \n",
      "# o # . . # o # # . # # # # # # # . # . # . # # # # . # # . # # # . . . # # . # . . # . # \n",
      "# o o # . # o # # . # . . . . # # . . . # . . # . # # # # . # # # # . . . # . . # . . # . \n",
      "# # o o # # o # # . # . . # . . . # # # . # . . . . . # . . . . . # # . # # # # # # . . . \n",
      "o o # o # # o o # # # # # # # # . # . # # # # # . . . # . . # # . # # . # . . . . . # # . \n",
      "# o o o o o o o o o o o o # # # . . . . . # # # # # . # # # # # . . . . # . . # # . . # . \n",
      "# # # o # # o # # # # o o o # . # # . . . . # . . # . # . . # . # # . # # # # . # # . . . \n",
      "# . # o o # o # # o # o # o # # # # # # . . # . # # . . # . # # # # . . # . # # # # # # # \n",
      ". # # # o o o o o o # o o # . . # o o # # # # . # # # . . # . . # . # . # # . . # . . . . \n",
      ". # # # # o o # # # . # o # # . # o # . . . # . . # . # . # # . # # . . . . . . # . . # # \n",
      ". . # # # # # # o # # # o o # # # o o # # . # . . # # # . . # # . # . . # # . # # # # . . \n",
      "# . . # # . . # o o o o o o o # # # o # . . # # # . . . . . . # . # # # # # . . # . # . . \n",
      ". . . . . . . # # o # # o # o o o o o # . . . . # . # # . # . # # # . . # . # . # # # # . \n",
      "# # # # # . # . # o # # o o o # # # o # # . . . # # . # . . # . . # # . # # . . . # # # # \n",
      ". . . # # . . # # o # . # # # . . # o # # # . # . # # . # . . # . . # # . # . . . . . # . \n",
      ". # . # # # . # o o # . . . # . # # o o o # . . # . # . . # . . . . . . . # # . . # . # # \n",
      "# # . . # . o # o # # # # # # . # # # # # . # . . # # # . . # # . # # # . # # # # . . . # \n",
      ". . . . # # o # o # # o o # . . . # # . # . # # . # # # # . . # . # # # . . . . # . . . # \n",
      "# # . . . # o o o o o o o # . . . . . . # . . . . . # . # # # . . . # # # # # # # # . # # \n",
      "# # # . # # # # # # # o # # # # # # # # . # # . # . # # # . # # . . . # # . . # . # . # # \n",
      ". # # . # . . . # # # o # # o o o # . # # . # . . # . . . . . # # . . . . # . # # . . . . \n",
      ". # # . # . . . . . # o o o o # o o # . # # . # . # # # # . # . # . # # . . # . # # # # # \n",
      ". . . # # # . # # . # o # # # . # o # # . # # # . . . # # . . # # . # . # . . . . . . # # \n",
      ". # . . # # . # . . # # . . # # o o o # . . . . . # . . # # . # . . # . . # # . . # . # # \n",
      "# # # . . . . # . . . # # # . # o o o # # . # # # # # . # . . # . . # # . # # # # # . . # \n",
      ". # . # # . # # # . # . . # . # # o # . # # # o o # . . # # . # # # # # . . . . . . . . . \n",
      ". # # # # . . # # . . # . # . # # o o # o o o o o # . . . # . # . . # # # # # . # # . # # \n",
      ". . . # . # . . . # . . # # . . # # o o o # # # o # # o # # . . # . . # # . # . # # . # . \n",
      "# . . # # . # # . . # . # # # . # . # # # # . # o # # o # # # . # . . . . . # . . . . # . \n",
      "# # . . # # # # # # # . . # . . # . . . . . # # o o o o o # . . # # # # # # . # # . . # . \n",
      ". # # # . . # . . . . . . # . . # # # . # . # . # # # o o # . . . . . # . # # . # # # . # \n",
      "# . . # # . # . . # # # # # # # # . # # # . # # # . # # o # # . . # . # . . # # # . # . . \n",
      ". # . . . # # # # . . . . # . . . . . . . # . . . # . # o # # # # # . # . # . . . # # # . \n",
      ". . . # . . . . # . . # . # . # # . . # . # # # . . # # o # # o o . # # . # # # . # # # # \n",
      "# # # # # # # # # # # # . # . # # # # # . . . . # . # o o o o o # . # # . . . . . . # . # \n",
      "# . . # # . . # . . . . # # . . # . . . . # # . # . # o o # # o # . . . . # # . # . # # . \n",
      "# . . . . # . # # . # . # . # . # . # # # . # . . # # # # # # o # . # # # . # . # # . # . \n",
      "# # . # . . # . # . # . # # . . # # . . # # . # . . . . . # o o # # # . # # . . . # . # # \n",
      ". # # . # . . . # . # # . # . . . # . # . # # # # # # . . # o # . . # # . # . # . # . # . \n",
      "# . # . . # # # . . . # . # # . # # . # # . . # # . # . . # o X. . . # . # . . # # . . . \n",
      ". # # # . # . # . # . # # # # . # # . . # . . . . . # # . . # # . . . # . . # . # # # # . \n",
      ". # # # . . # # . . # . . . # . . . . . # . . # # # # # # . . # # . # # # # . . . # # # # \n",
      ". . # . # . # . # . . # # . # . # # . # # # # # . . # . # # . # # . # # . # . . . . # . . \n",
      "# . # # . . # . . # . # . . # # . # . # # . . # . . # # # # . # # . . . # # # # # . # . . \n",
      ". # . # . # # # . . . # . . . # # . . . . . . # # # . . # # . . . . # . # # . . # # # # . \n"
     ]
    }
   ],
   "source": [
    "for i in range(45):\n",
    "    row = ''\n",
    "    for j in range(45):\n",
    "        if not is_wall((j,i)):\n",
    "            if (j,i) in route:\n",
    "                row = row + 'o '\n",
    "            elif (j,i) == (31,39):\n",
    "                row = row + 'X'\n",
    "            else:\n",
    "                row = row + '. '\n",
    "        else:\n",
    "            row = row + '# '\n",
    "    print (row)"
   ]
  },
  {
   "cell_type": "markdown",
   "metadata": {
    "collapsed": true
   },
   "source": [
    "## Part 2"
   ]
  },
  {
   "cell_type": "code",
   "execution_count": 58,
   "metadata": {
    "collapsed": true
   },
   "outputs": [],
   "source": [
    "def goal_estimate(pos, goal):\n",
    "    return abs(goal[0]-pos[0]) + abs(goal[1]-pos[1])"
   ]
  },
  {
   "cell_type": "code",
   "execution_count": 73,
   "metadata": {
    "collapsed": false
   },
   "outputs": [],
   "source": [
    "def search(starting_pos, goal):\n",
    "    q = queue.PriorityQueue()\n",
    "    visited = set([])\n",
    "    steps = 0\n",
    "    q.put((0 + goal_estimate(starting_pos, goal), 0, starting_pos))\n",
    "    while not q.empty():\n",
    "        (estimated_cost, spent_cost, pos) = q.get()\n",
    "        steps += 1\n",
    "        if steps % 1000 == 0:\n",
    "            print (steps, spent_cost, estimated_cost)\n",
    "        nexts = neighbors(pos)\n",
    "        for n in nexts:\n",
    "            if n in visited or is_wall(pos):\n",
    "                continue\n",
    "            new_cost = spent_cost + 1\n",
    "            if new_cost == 51:\n",
    "                return visited\n",
    "            visited.add(n)\n",
    "            q.put_nowait((new_cost + goal_estimate(n, goal), new_cost, n))\n",
    "            "
   ]
  },
  {
   "cell_type": "code",
   "execution_count": 74,
   "metadata": {
    "collapsed": false,
    "scrolled": false
   },
   "outputs": [],
   "source": [
    "route1 = search((1,1), (0,100))\n",
    "route2 = search((1,1), (100,0))\n",
    "route3 = search((1,1), (100,100))\n",
    "route4 = search((1,1), (0,0))"
   ]
  },
  {
   "cell_type": "code",
   "execution_count": 76,
   "metadata": {
    "collapsed": false
   },
   "outputs": [
    {
     "name": "stdout",
     "output_type": "stream",
     "text": [
      "# o o # # # o # . . . # . . # . . . . # # . # . . . # . . . \n",
      "# o # . . # o # # . # # # # # # # . # . # . # # # # . # # . \n",
      "# o o # . # o # # . # . . . . # # . . . # . . # . # # # # . \n",
      "# # o o # # o # # . # . . # . . . # # # . # . . . . . # . . \n",
      "o o # o # # o o # # # # # # # # . # . # # # # # . . . # . . \n",
      "# o o o o o o o o o o o o # # # . . . . . # # # # # . # # # \n",
      "# # # o # # o # # # # o o o # . # # . . . . # . . # . # . . \n",
      "# . # o o # o # # o # o # o # # # # # # . . # . # # . . # . \n",
      "o # # # o o o o o o # o o # . . # o o # # # # . # # # . . # \n",
      "o # # # # o o # # # . # o # # . # o # . . . # . . # . # . # \n",
      "o o # # # # # # o # # # o o # # # o o # # . # . . # # # . . \n",
      "# o o # # o o # o o o o o o o # # # o # . . # # # . . . . . \n",
      "o o o o o o o # # o # # o # o o o o o # . . . . # . # # . # \n",
      "# # # # # o # . # o # # o o o # # # o # # . . . # # . # . . \n",
      ". . . # # o o # # o # . # # # . . # o # # # . # . # # . # . \n",
      ". # . # # # o # o o # . . . # . # # o o o # . . # . # . . # \n",
      "# # . . # o o # o # # # # # # . # # # # # . # . . # # # . . \n",
      ". . . . # # o # o # # o o # . . . # # . # . # # . # # # # . \n",
      "# # . . . # o o o o o o o # . . . . . . # . . . . . # . # # \n",
      "# # # . # # # # # # # o # # # # # # # # . # # . # . # # # . \n",
      ". # # . # . . . # # # o # # o o o # . # # . # . . # . . . . \n",
      ". # # . # . . . . . # o o o o # o o # . # # . # . # # # # . \n",
      ". . . # # # . # # . # o # # # . # o # # . # # # . . . # # . \n",
      ". # . . # # . # . . # # . . # # o o o # . . . . . # . . # # \n",
      "# # # . . . . # . . . # # # . # o o o # # . # # # # # . # . \n",
      ". # . # # . # # # . # . . # . # # o # . # # # . . # . . # # \n",
      ". # # # # . . # # . . # . # . # # . . # . . . . . # . . . # \n",
      ". . . # . # . . . # . . # # . . # # . . . # # # . # # . # # \n",
      "# . . # # . # # . . # . # # # . # . # # # # . # . # # . # # \n",
      "# # . . # # # # # # # . . # . . # . . . . . # # . . . . . # \n"
     ]
    }
   ],
   "source": [
    "for i in range(30):\n",
    "    row = ''\n",
    "    for j in range(30):\n",
    "        if not is_wall((j,i)):\n",
    "            if (j,i) in route1 or (j,i) in route2 or (j,i) in route3 or (j,i) in route4:\n",
    "                row = row + 'o '\n",
    "            else:\n",
    "                row = row + '. '\n",
    "        else:\n",
    "            row = row + '# '\n",
    "    print (row)"
   ]
  },
  {
   "cell_type": "code",
   "execution_count": 77,
   "metadata": {
    "collapsed": false
   },
   "outputs": [
    {
     "data": {
      "text/plain": [
       "138"
      ]
     },
     "execution_count": 77,
     "metadata": {},
     "output_type": "execute_result"
    }
   ],
   "source": [
    "len(set(list(route1) + list(route2) + list(route3) + list(route4)))"
   ]
  },
  {
   "cell_type": "code",
   "execution_count": null,
   "metadata": {
    "collapsed": true
   },
   "outputs": [],
   "source": []
  }
 ],
 "metadata": {
  "kernelspec": {
   "display_name": "Python 3",
   "language": "python",
   "name": "python3"
  },
  "language_info": {
   "codemirror_mode": {
    "name": "ipython",
    "version": 3
   },
   "file_extension": ".py",
   "mimetype": "text/x-python",
   "name": "python",
   "nbconvert_exporter": "python",
   "pygments_lexer": "ipython3",
   "version": "3.6.0"
  }
 },
 "nbformat": 4,
 "nbformat_minor": 2
}
