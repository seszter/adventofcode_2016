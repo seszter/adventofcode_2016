{
 "cells": [
  {
   "cell_type": "code",
   "execution_count": 10,
   "metadata": {
    "collapsed": true
   },
   "outputs": [],
   "source": [
    "with open('day1.txt') as f:\n",
    "    content = f.readlines()\n",
    "content = [x.split(', ') for x in content][0]\n"
   ]
  },
  {
   "cell_type": "markdown",
   "metadata": {},
   "source": [
    "### part 1"
   ]
  },
  {
   "cell_type": "code",
   "execution_count": 61,
   "metadata": {
    "collapsed": false
   },
   "outputs": [],
   "source": [
    "direction_dict = {'N':{'L':'W', 'R':'E'},\n",
    "                 'S':{'L':'E', 'R':'W'},\n",
    "                 'W':{'L':'S', 'R':'N'},\n",
    "                 'E':{'L':'N', 'R':'S'}}\n",
    "distance_dict = {'N':0,\n",
    "                'S':0,\n",
    "                'W':0,\n",
    "                'E':0}\n",
    "facing = 'N'\n",
    "for c in content:    \n",
    "    facing = direction_dict[facing][c[0]]\n",
    "    distance_dict[facing] += int(c[1:])\n",
    "\n",
    "abs(distance_dict['N']-distance_dict['S']) + abs(distance_dict['E']-distance_dict['W'])"
   ]
  },
  {
   "cell_type": "markdown",
   "metadata": {},
   "source": [
    "### part 2\n"
   ]
  },
  {
   "cell_type": "code",
   "execution_count": 100,
   "metadata": {
    "collapsed": false
   },
   "outputs": [
    {
     "name": "stdout",
     "output_type": "stream",
     "text": [
      "115\n"
     ]
    }
   ],
   "source": [
    "direction_dict = {'N':{'L':'W', 'R':'E'},\n",
    "                 'S':{'L':'E', 'R':'W'},\n",
    "                 'W':{'L':'S', 'R':'N'},\n",
    "                 'E':{'L':'N', 'R':'S'}}\n",
    "coordinates = [(0,0)]\n",
    "facing = 'N'\n",
    "returning = 0\n",
    "for c in content:    \n",
    "    facing = direction_dict[facing][c[0]]\n",
    "    distance_dict[facing] += int(c[1:])\n",
    "    for i in range(1, int(c[1:])+1):\n",
    "        if facing == 'N':\n",
    "            new_cord = (coordinates[-1][0] + 1, coordinates[-1][1])\n",
    "        elif facing =='S':\n",
    "            new_cord = (coordinates[-1][0] - 1, coordinates[-1][1])\n",
    "        elif facing =='W':\n",
    "            new_cord = (coordinates[-1][0], coordinates[-1][1] + 1)\n",
    "        else:\n",
    "            new_cord = (coordinates[-1][0], coordinates[-1][1] - 1)\n",
    "        if new_cord in coordinates:\n",
    "            returning = new_cord\n",
    "        else:\n",
    "            coordinates.append(new_cord)\n",
    "    if returning != 0:\n",
    "        print (returning[0] - returning[1])\n",
    "        break"
   ]
  },
  {
   "cell_type": "code",
   "execution_count": null,
   "metadata": {
    "collapsed": true
   },
   "outputs": [],
   "source": []
  }
 ],
 "metadata": {
  "kernelspec": {
   "display_name": "Python 3",
   "language": "python",
   "name": "python3"
  },
  "language_info": {
   "codemirror_mode": {
    "name": "ipython",
    "version": 3
   },
   "file_extension": ".py",
   "mimetype": "text/x-python",
   "name": "python",
   "nbconvert_exporter": "python",
   "pygments_lexer": "ipython3",
   "version": "3.4.3"
  }
 },
 "nbformat": 4,
 "nbformat_minor": 0
}
