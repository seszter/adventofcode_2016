{
 "cells": [
  {
   "cell_type": "markdown",
   "metadata": {},
   "source": [
    "### part 1"
   ]
  },
  {
   "cell_type": "code",
   "execution_count": 16,
   "metadata": {
    "collapsed": false
   },
   "outputs": [],
   "source": [
    "import hashlib"
   ]
  },
  {
   "cell_type": "code",
   "execution_count": 62,
   "metadata": {
    "collapsed": false
   },
   "outputs": [
    {
     "name": "stdout",
     "output_type": "stream",
     "text": [
      "4\n",
      "45\n",
      "454\n",
      "4543\n",
      "4543c\n",
      "4543c1\n",
      "4543c15\n",
      "4543c154\n"
     ]
    }
   ],
   "source": [
    "result = ''\n",
    "for i in range(0,1000000000):\n",
    "    code = ('ojvtpuvg' + str(i)).encode('utf-8')\n",
    "    m = hashlib.md5()\n",
    "    m.update(code)\n",
    "    hashed = m.hexdigest()\n",
    "    if hashed[:5] == '00000':\n",
    "        result += hashed[5]\n",
    "        print (result)\n",
    "        if len(result)==8:\n",
    "            break"
   ]
  },
  {
   "cell_type": "markdown",
   "metadata": {
    "collapsed": true
   },
   "source": [
    "### part 2"
   ]
  },
  {
   "cell_type": "code",
   "execution_count": 84,
   "metadata": {
    "collapsed": false
   },
   "outputs": [],
   "source": [
    "result = {}\n",
    "for i in range(0,1000000000):\n",
    "    code = ('ojvtpuvg' + str(i)).encode('utf-8')\n",
    "    m = hashlib.md5()\n",
    "    m.update(code)\n",
    "    hashed = m.hexdigest()\n",
    "    if (hashed[:5] == '00000') & hashed[5].isnumeric():\n",
    "        if (int(hashed[5]) in range(0,8)) & (int(hashed[5]) not in result):\n",
    "            result[int(hashed[5])] = hashed[6]\n",
    "            if len(result)==8:\n",
    "                break"
   ]
  },
  {
   "cell_type": "code",
   "execution_count": 83,
   "metadata": {
    "collapsed": false
   },
   "outputs": [
    {
     "data": {
      "text/plain": [
       "'1050cbbd'"
      ]
     },
     "execution_count": 83,
     "metadata": {},
     "output_type": "execute_result"
    }
   ],
   "source": [
    "solution = ''\n",
    "for key in sorted(result):\n",
    "    solution += result[key]\n",
    "solution"
   ]
  },
  {
   "cell_type": "code",
   "execution_count": null,
   "metadata": {
    "collapsed": true
   },
   "outputs": [],
   "source": []
  }
 ],
 "metadata": {
  "kernelspec": {
   "display_name": "Python 3",
   "language": "python",
   "name": "python3"
  },
  "language_info": {
   "codemirror_mode": {
    "name": "ipython",
    "version": 3
   },
   "file_extension": ".py",
   "mimetype": "text/x-python",
   "name": "python",
   "nbconvert_exporter": "python",
   "pygments_lexer": "ipython3",
   "version": "3.5.1"
  }
 },
 "nbformat": 4,
 "nbformat_minor": 0
}
