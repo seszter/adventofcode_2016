{
 "cells": [
  {
   "cell_type": "code",
   "execution_count": 16,
   "metadata": {
    "collapsed": true
   },
   "outputs": [],
   "source": [
    "with open('day6.txt') as f:\n",
    "    content = f.readlines()\n",
    "content = [x.strip('\\n') for x in content]"
   ]
  },
  {
   "cell_type": "markdown",
   "metadata": {},
   "source": [
    "### part 1"
   ]
  },
  {
   "cell_type": "code",
   "execution_count": 18,
   "metadata": {
    "collapsed": false
   },
   "outputs": [],
   "source": [
    "import collections"
   ]
  },
  {
   "cell_type": "code",
   "execution_count": 23,
   "metadata": {
    "collapsed": false
   },
   "outputs": [
    {
     "name": "stdout",
     "output_type": "stream",
     "text": [
      "('i', 22)\n",
      "('k', 22)\n",
      "('e', 22)\n",
      "('r', 22)\n",
      "('p', 22)\n",
      "('c', 22)\n",
      "('t', 22)\n",
      "('y', 22)\n"
     ]
    }
   ],
   "source": [
    "for i in range(0,len(content[0])):\n",
    "    verticalword = ''\n",
    "    for con in content:\n",
    "        verticalword += con[i]\n",
    "    print (collections.Counter(verticalword).most_common(1)[0])"
   ]
  },
  {
   "cell_type": "markdown",
   "metadata": {},
   "source": [
    "### part 2"
   ]
  },
  {
   "cell_type": "code",
   "execution_count": 27,
   "metadata": {
    "collapsed": false
   },
   "outputs": [
    {
     "name": "stdout",
     "output_type": "stream",
     "text": [
      "('u', 20)\n",
      "('w', 20)\n",
      "('p', 20)\n",
      "('f', 20)\n",
      "('a', 20)\n",
      "('q', 20)\n",
      "('r', 20)\n",
      "('q', 20)\n"
     ]
    }
   ],
   "source": [
    "for i in range(0,len(content[0])):\n",
    "    verticalword = ''\n",
    "    for con in content:\n",
    "        verticalword += con[i]\n",
    "    print (collections.Counter(verticalword).most_common()[-1])"
   ]
  },
  {
   "cell_type": "code",
   "execution_count": null,
   "metadata": {
    "collapsed": true
   },
   "outputs": [],
   "source": []
  }
 ],
 "metadata": {
  "kernelspec": {
   "display_name": "Python 3",
   "language": "python",
   "name": "python3"
  },
  "language_info": {
   "codemirror_mode": {
    "name": "ipython",
    "version": 3
   },
   "file_extension": ".py",
   "mimetype": "text/x-python",
   "name": "python",
   "nbconvert_exporter": "python",
   "pygments_lexer": "ipython3",
   "version": "3.5.1"
  }
 },
 "nbformat": 4,
 "nbformat_minor": 0
}
