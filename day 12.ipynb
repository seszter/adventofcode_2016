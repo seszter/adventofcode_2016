{
 "cells": [
  {
   "cell_type": "code",
   "execution_count": 1,
   "metadata": {
    "collapsed": true
   },
   "outputs": [],
   "source": [
    "with open('day12.txt') as f:\n",
    "    content = f.readlines()\n",
    "content = [x.strip('\\n') for x in content]\n"
   ]
  },
  {
   "cell_type": "markdown",
   "metadata": {},
   "source": [
    "### Part 1"
   ]
  },
  {
   "cell_type": "code",
   "execution_count": 9,
   "metadata": {
    "collapsed": false
   },
   "outputs": [],
   "source": [
    "registers = {'a':0,'b':0,'c':0,'d':0}\n",
    "i=0\n",
    "while i < len(content):\n",
    "    if content[i].split()[0]=='cpy':\n",
    "        if content[i].split()[1].isnumeric():\n",
    "            registers[content[i].split()[2]] = int(content[i].split()[1])\n",
    "        else:\n",
    "            registers[content[i].split()[2]] = registers[content[i].split()[1]]\n",
    "        i+=1\n",
    "    elif content[i].split()[0]=='inc':\n",
    "        registers[content[i].split()[1]] += 1\n",
    "        i+=1\n",
    "    elif content[i].split()[0]=='dec':\n",
    "        registers[content[i].split()[1]] += -1\n",
    "        i+=1\n",
    "    elif content[i].split()[0]=='jnz':\n",
    "        if content[i].split()[1].isnumeric():\n",
    "            if int(content[i].split()[1]) != 0:\n",
    "                i+=int(content[i].split()[2])\n",
    "        elif registers[content[i].split()[1]] != 0:\n",
    "            i+=int(content[i].split()[2])\n",
    "        else:\n",
    "            i+=1\n",
    "    "
   ]
  },
  {
   "cell_type": "markdown",
   "metadata": {},
   "source": [
    "### Part 2"
   ]
  },
  {
   "cell_type": "code",
   "execution_count": 6,
   "metadata": {
    "collapsed": false
   },
   "outputs": [],
   "source": [
    "registers = {'a':0,'b':0,'c':1,'d':0}\n",
    "i=0\n",
    "while i < len(content):\n",
    "    if content[i].split()[0]=='cpy':\n",
    "        if content[i].split()[1].isnumeric():\n",
    "            registers[content[i].split()[2]] = int(content[i].split()[1])\n",
    "        else:\n",
    "            registers[content[i].split()[2]] = registers[content[i].split()[1]]\n",
    "        i+=1\n",
    "    elif content[i].split()[0]=='inc':\n",
    "        registers[content[i].split()[1]] += 1\n",
    "        i+=1\n",
    "    elif content[i].split()[0]=='dec':\n",
    "        registers[content[i].split()[1]] += -1\n",
    "        i+=1\n",
    "    elif content[i].split()[0]=='jnz':\n",
    "        if content[i].split()[1].isnumeric():\n",
    "            if int(content[i].split()[1]) != 0:\n",
    "                i+=int(content[i].split()[2])\n",
    "        elif registers[content[i].split()[1]] != 0:\n",
    "            i+=int(content[i].split()[2])\n",
    "        else:\n",
    "            i+=1"
   ]
  },
  {
   "cell_type": "code",
   "execution_count": null,
   "metadata": {
    "collapsed": true
   },
   "outputs": [],
   "source": []
  }
 ],
 "metadata": {
  "kernelspec": {
   "display_name": "Python 3",
   "language": "python",
   "name": "python3"
  },
  "language_info": {
   "codemirror_mode": {
    "name": "ipython",
    "version": 3
   },
   "file_extension": ".py",
   "mimetype": "text/x-python",
   "name": "python",
   "nbconvert_exporter": "python",
   "pygments_lexer": "ipython3",
   "version": "3.4.3"
  }
 },
 "nbformat": 4,
 "nbformat_minor": 0
}
