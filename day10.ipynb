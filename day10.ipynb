{
 "cells": [
  {
   "cell_type": "code",
   "execution_count": 1,
   "metadata": {
    "collapsed": true
   },
   "outputs": [],
   "source": [
    "with open('day10.txt') as f:\n",
    "    content = f.readlines()\n",
    "content = [x.strip('\\n') for x in content]\n"
   ]
  },
  {
   "cell_type": "code",
   "execution_count": 2,
   "metadata": {
    "collapsed": true
   },
   "outputs": [],
   "source": [
    "rules = [x for x in content if x[0]=='b']"
   ]
  },
  {
   "cell_type": "code",
   "execution_count": 3,
   "metadata": {
    "collapsed": false
   },
   "outputs": [],
   "source": [
    "inputs = [x for x in content if x[0]=='v']"
   ]
  },
  {
   "cell_type": "markdown",
   "metadata": {},
   "source": [
    "### Part 1"
   ]
  },
  {
   "cell_type": "code",
   "execution_count": 54,
   "metadata": {
    "collapsed": true
   },
   "outputs": [],
   "source": [
    "class robot(object):\n",
    "    \n",
    "    def __init__(self,lowerto,upperto):\n",
    "        self.lowerto = lowerto\n",
    "        self.upperto = upperto\n",
    "        self.values = []\n",
    "          \n",
    "    def get_value(self,newvalue):\n",
    "        if len(self.values) == 2:\n",
    "            raise ValueError('already have 2 values')\n",
    "        else:\n",
    "            self.values.append(newvalue)\n",
    "        \n",
    "    def enough_values(self):\n",
    "        if len(self.values)==2:\n",
    "            return True\n",
    "        else:\n",
    "            return False\n",
    "        \n",
    "    def give(self):\n",
    "        if len(self.values) < 2:\n",
    "            raise ValueError('not enough values to give')\n",
    "        else:\n",
    "            lower = min(self.values)\n",
    "            self.values.remove(lower)\n",
    "            return lower,self.lowerto, self.values[0],self.upperto\n",
    "               \n",
    "    def print_values(self):\n",
    "        print (self.values)\n",
    "        \n",
    "    def print_to_who(self):\n",
    "        print (self.lowerto, self.upperto)\n"
   ]
  },
  {
   "cell_type": "code",
   "execution_count": 102,
   "metadata": {
    "collapsed": false
   },
   "outputs": [
    {
     "name": "stdout",
     "output_type": "stream",
     "text": [
      "bot141\n"
     ]
    }
   ],
   "source": [
    "# Initalizing the robots\n",
    "for rule in rules:\n",
    "    splitted_rule = [s for s in rule.split()]\n",
    "    name = splitted_rule[0]+splitted_rule[1]\n",
    "    exec(name + \" = robot(splitted_rule[5]+splitted_rule[6],splitted_rule[10]+splitted_rule[11])\")\n",
    "\n",
    "# Giving the inputs to the robots\n",
    "for action in inputs:\n",
    "    fullrobots = []\n",
    "    value, robotnumber = [int(s) for s in action.split() if s.isdigit()]\n",
    "    thisrobot = 'bot' + str(robotnumber)\n",
    "    eval(thisrobot).get_value(value)\n",
    "    if eval(thisrobot).enough_values():\n",
    "        lower,lowerto,upper,upperto = eval(thisrobot).give()\n",
    "        if lower==17 and upper==61:\n",
    "            print (thisrobot)\n",
    "            break\n",
    "        if lowerto[0]=='b':\n",
    "            eval(lowerto).get_value(lower)\n",
    "            if eval(lowerto).enough_values():\n",
    "                fullrobots.append(lowerto)\n",
    "        if upperto[0]=='b':\n",
    "            eval(upperto).get_value(upper)\n",
    "            if eval(upperto).enough_values():\n",
    "                fullrobots.append(upperto)\n",
    "    while len(fullrobots)>0:\n",
    "        lower,lowerto,upper,upperto = eval(fullrobots[0]).give()\n",
    "        if lower==17 and upper==61:\n",
    "            print (fullrobots[0])\n",
    "            break\n",
    "        if lowerto[0]=='b':\n",
    "            eval(lowerto).get_value(lower)\n",
    "            if eval(lowerto).enough_values():\n",
    "                fullrobots.append(lowerto)\n",
    "        if upperto[0]=='b':\n",
    "            eval(upperto).get_value(upper)\n",
    "            if eval(upperto).enough_values():\n",
    "                fullrobots.append(upperto)\n",
    "        del fullrobots[0]\n",
    "        "
   ]
  },
  {
   "cell_type": "markdown",
   "metadata": {},
   "source": [
    "### Part 2"
   ]
  },
  {
   "cell_type": "code",
   "execution_count": 108,
   "metadata": {
    "collapsed": false
   },
   "outputs": [],
   "source": [
    "# Initalizing the robots\n",
    "for rule in rules:\n",
    "    splitted_rule = [s for s in rule.split()]\n",
    "    name = splitted_rule[0]+splitted_rule[1]\n",
    "    exec(name + \" = robot(splitted_rule[5]+splitted_rule[6],splitted_rule[10]+splitted_rule[11])\")\n",
    "\n",
    "# Giving the inputs to the robots\n",
    "out = {}\n",
    "for action in inputs:\n",
    "    fullrobots = []\n",
    "    value, robotnumber = [int(s) for s in action.split() if s.isdigit()]\n",
    "    thisrobot = 'bot' + str(robotnumber)\n",
    "    eval(thisrobot).get_value(value)\n",
    "    if eval(thisrobot).enough_values():\n",
    "        lower,lowerto,upper,upperto = eval(thisrobot).give()\n",
    "        if lowerto[0]=='b':\n",
    "            eval(lowerto).get_value(lower)\n",
    "            if eval(lowerto).enough_values():\n",
    "                fullrobots.append(lowerto)\n",
    "        else:\n",
    "            out[lowerto]=lower\n",
    "        if upperto[0]=='b':\n",
    "            eval(upperto).get_value(upper)\n",
    "            if eval(upperto).enough_values():\n",
    "                fullrobots.append(upperto)\n",
    "        else:\n",
    "            out[upperto]=upper\n",
    "    while len(fullrobots)>0:\n",
    "        lower,lowerto,upper,upperto = eval(fullrobots[0]).give()\n",
    "        if lowerto[0]=='b':\n",
    "            eval(lowerto).get_value(lower)\n",
    "            if eval(lowerto).enough_values():\n",
    "                fullrobots.append(lowerto)\n",
    "        else:\n",
    "            out[lowerto]=lower\n",
    "        if upperto[0]=='b':\n",
    "            eval(upperto).get_value(upper)\n",
    "            if eval(upperto).enough_values():\n",
    "                fullrobots.append(upperto)\n",
    "        else:\n",
    "            out[upperto]=upper\n",
    "        del fullrobots[0]\n",
    "        "
   ]
  },
  {
   "cell_type": "code",
   "execution_count": 109,
   "metadata": {
    "collapsed": false
   },
   "outputs": [
    {
     "data": {
      "text/plain": [
       "1209"
      ]
     },
     "execution_count": 109,
     "metadata": {},
     "output_type": "execute_result"
    }
   ],
   "source": [
    "out['output0']*out['output1']*out['output2']"
   ]
  },
  {
   "cell_type": "code",
   "execution_count": null,
   "metadata": {
    "collapsed": true
   },
   "outputs": [],
   "source": []
  }
 ],
 "metadata": {
  "kernelspec": {
   "display_name": "Python 3",
   "language": "python",
   "name": "python3"
  },
  "language_info": {
   "codemirror_mode": {
    "name": "ipython",
    "version": 3
   },
   "file_extension": ".py",
   "mimetype": "text/x-python",
   "name": "python",
   "nbconvert_exporter": "python",
   "pygments_lexer": "ipython3",
   "version": "3.4.3"
  }
 },
 "nbformat": 4,
 "nbformat_minor": 0
}
