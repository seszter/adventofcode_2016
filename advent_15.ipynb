{
 "cells": [
  {
   "cell_type": "markdown",
   "metadata": {},
   "source": [
    "## Part 1"
   ]
  },
  {
   "cell_type": "code",
   "execution_count": 41,
   "metadata": {
    "collapsed": false
   },
   "outputs": [],
   "source": [
    "disc1 = [x for x in range(1000000) if (x+1+11) % 13 == 0]\n",
    "disc2 = [x for x in range(1000000) if (x+2) % 5 == 0]\n",
    "disc3 = [x for x in range(1000000) if (x+3+11) % 17 == 0]\n",
    "disc4 = [x for x in range(1000000) if (x+4) % 3 == 0]\n",
    "disc5 = [x for x in range(1000000) if (x+5+2) % 7 == 0]\n",
    "disc6 = [x for x in range(1000000) if (x+6-2) % 19 == 0]"
   ]
  },
  {
   "cell_type": "code",
   "execution_count": 42,
   "metadata": {
    "collapsed": false
   },
   "outputs": [
    {
     "data": {
      "text/plain": [
       "{122318, 563213}"
      ]
     },
     "execution_count": 42,
     "metadata": {},
     "output_type": "execute_result"
    }
   ],
   "source": [
    "set(disc1).intersection(set(disc2)).intersection(set(disc3)).intersection(set(disc4)).intersection(set(disc5)).intersection(set(disc6))"
   ]
  },
  {
   "cell_type": "markdown",
   "metadata": {},
   "source": [
    "## Part 2"
   ]
  },
  {
   "cell_type": "code",
   "execution_count": 47,
   "metadata": {
    "collapsed": true
   },
   "outputs": [],
   "source": [
    "disc1 = [x for x in range(10000000) if (x+1+11) % 13 == 0]\n",
    "disc2 = [x for x in range(10000000) if (x+2) % 5 == 0]\n",
    "disc3 = [x for x in range(10000000) if (x+3+11) % 17 == 0]\n",
    "disc4 = [x for x in range(10000000) if (x+4) % 3 == 0]\n",
    "disc5 = [x for x in range(10000000) if (x+5+2) % 7 == 0]\n",
    "disc6 = [x for x in range(10000000) if (x+6-2) % 19 == 0]\n",
    "disc7 = [x for x in range(10000000) if (x+7) % 11 == 0]"
   ]
  },
  {
   "cell_type": "code",
   "execution_count": 48,
   "metadata": {
    "collapsed": false
   },
   "outputs": [
    {
     "data": {
      "text/plain": [
       "{3208583, 8058428}"
      ]
     },
     "execution_count": 48,
     "metadata": {},
     "output_type": "execute_result"
    }
   ],
   "source": [
    "set(disc1).intersection(set(disc2)).intersection(set(disc3)).intersection(set(disc4)).intersection(set(disc5)).intersection(set(disc6)).intersection(set(disc7))"
   ]
  },
  {
   "cell_type": "code",
   "execution_count": null,
   "metadata": {
    "collapsed": true
   },
   "outputs": [],
   "source": []
  }
 ],
 "metadata": {
  "kernelspec": {
   "display_name": "Python 3",
   "language": "python",
   "name": "python3"
  },
  "language_info": {
   "codemirror_mode": {
    "name": "ipython",
    "version": 3
   },
   "file_extension": ".py",
   "mimetype": "text/x-python",
   "name": "python",
   "nbconvert_exporter": "python",
   "pygments_lexer": "ipython3",
   "version": "3.6.0"
  }
 },
 "nbformat": 4,
 "nbformat_minor": 2
}
