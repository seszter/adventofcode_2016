{
 "cells": [
  {
   "cell_type": "markdown",
   "metadata": {},
   "source": [
    "## Part 1"
   ]
  },
  {
   "cell_type": "code",
   "execution_count": 67,
   "metadata": {
    "collapsed": false
   },
   "outputs": [],
   "source": [
    "def add_row(rows):\n",
    "    next_row = []\n",
    "    for i in range(len(rows[-1])):\n",
    "        if i == 0:\n",
    "            next_row.append(rows[-1][1])\n",
    "        elif i == len(row)-1:\n",
    "            next_row.append(rows[-1][i-1])\n",
    "        else:\n",
    "            if rows[-1][i-1] + rows[-1][i+1] == 1:\n",
    "                next_row.append(0)\n",
    "            else:\n",
    "                next_row.append(1)\n",
    "    rows.append(next_row)\n",
    "    if len(rows) == 40:\n",
    "        return sum([sum(x) for x in rows])\n",
    "    return add_row(rows)\n",
    "        "
   ]
  },
  {
   "cell_type": "code",
   "execution_count": 72,
   "metadata": {
    "collapsed": true
   },
   "outputs": [],
   "source": [
    "row = '^^.^..^.....^..^..^^...^^.^....^^^.^.^^....^.^^^...^^^^.^^^^.^..^^^^.^^.^.^.^.^.^^...^^..^^^..^.^^^^'\n",
    "row = [1 if x=='.' else 0 for x in row]\n",
    "rows = [row]"
   ]
  },
  {
   "cell_type": "code",
   "execution_count": 73,
   "metadata": {
    "collapsed": false
   },
   "outputs": [
    {
     "data": {
      "text/plain": [
       "1961"
      ]
     },
     "execution_count": 73,
     "metadata": {},
     "output_type": "execute_result"
    }
   ],
   "source": [
    "add_row(rows)\n"
   ]
  },
  {
   "cell_type": "markdown",
   "metadata": {},
   "source": [
    "## Part 2"
   ]
  },
  {
   "cell_type": "code",
   "execution_count": 78,
   "metadata": {
    "collapsed": true
   },
   "outputs": [],
   "source": [
    "def new_row(row):\n",
    "    next_row = []\n",
    "    for i in range(len(row)):\n",
    "        if i == 0:\n",
    "            next_row.append(row[1])\n",
    "        elif i == len(row)-1:\n",
    "            next_row.append(row[i-1])\n",
    "        else:\n",
    "            if row[i-1] + row[i+1] == 1:\n",
    "                next_row.append(0)\n",
    "            else:\n",
    "                next_row.append(1)\n",
    "\n",
    "\n",
    "    return (next_row, sum(next_row))"
   ]
  },
  {
   "cell_type": "code",
   "execution_count": 94,
   "metadata": {
    "collapsed": false
   },
   "outputs": [
    {
     "data": {
      "text/plain": [
       "20000795"
      ]
     },
     "execution_count": 94,
     "metadata": {},
     "output_type": "execute_result"
    }
   ],
   "source": [
    "row = '^^.^..^.....^..^..^^...^^.^....^^^.^.^^....^.^^^...^^^^.^^^^.^..^^^^.^^.^.^.^.^.^^...^^..^^^..^.^^^^'\n",
    "row = [1 if x=='.' else 0 for x in row]\n",
    "\n",
    "safe_sum = 0\n",
    "for j in range(400000):\n",
    "    next_row, safes = new_row(row)\n",
    "    safe_sum += safes\n",
    "    row = next_row\n",
    "safe_sum"
   ]
  },
  {
   "cell_type": "code",
   "execution_count": null,
   "metadata": {
    "collapsed": true
   },
   "outputs": [],
   "source": []
  }
 ],
 "metadata": {
  "kernelspec": {
   "display_name": "Python 3",
   "language": "python",
   "name": "python3"
  },
  "language_info": {
   "codemirror_mode": {
    "name": "ipython",
    "version": 3
   },
   "file_extension": ".py",
   "mimetype": "text/x-python",
   "name": "python",
   "nbconvert_exporter": "python",
   "pygments_lexer": "ipython3",
   "version": "3.6.0"
  }
 },
 "nbformat": 4,
 "nbformat_minor": 2
}
