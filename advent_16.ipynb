{
 "cells": [
  {
   "cell_type": "markdown",
   "metadata": {},
   "source": [
    "## Part 1"
   ]
  },
  {
   "cell_type": "code",
   "execution_count": 17,
   "metadata": {
    "collapsed": true
   },
   "outputs": [],
   "source": [
    "def dragonCurve(a, to_fill):\n",
    "    if len(a) >= to_fill:\n",
    "        return a\n",
    "    b = a[::-1]\n",
    "    b = b.replace('1','2')\n",
    "    b = b.replace('0','1')\n",
    "    b = b.replace('2','0')\n",
    "    new = a + '0' + b\n",
    "    return dragonCurve(new, to_fill)"
   ]
  },
  {
   "cell_type": "code",
   "execution_count": 24,
   "metadata": {
    "collapsed": true
   },
   "outputs": [],
   "source": [
    "def checksum(x):\n",
    "    if len(x) % 2 == 1:\n",
    "        return x\n",
    "    new = ''\n",
    "    for i in range(int(len(x)/2)):\n",
    "        if x[i*2] + x[i*2+1] in ['00','11']:\n",
    "            new += '1'\n",
    "        else:\n",
    "            new += '0'\n",
    "    return checksum(new)"
   ]
  },
  {
   "cell_type": "code",
   "execution_count": 52,
   "metadata": {
    "collapsed": false
   },
   "outputs": [],
   "source": [
    "disk_size = 272\n",
    "disk = dragonCurve('00111101111101000',disk_size)[:disk_size]"
   ]
  },
  {
   "cell_type": "code",
   "execution_count": 53,
   "metadata": {
    "collapsed": false
   },
   "outputs": [
    {
     "data": {
      "text/plain": [
       "'10011010010010010'"
      ]
     },
     "execution_count": 53,
     "metadata": {},
     "output_type": "execute_result"
    }
   ],
   "source": [
    "checksum(disk)"
   ]
  },
  {
   "cell_type": "markdown",
   "metadata": {},
   "source": [
    "## Part 2"
   ]
  },
  {
   "cell_type": "code",
   "execution_count": 43,
   "metadata": {
    "collapsed": true
   },
   "outputs": [],
   "source": [
    "checksum_dict = {('0','1'):'0',\n",
    "            ('1','0'):'0',\n",
    "            ('0','0'):'1',\n",
    "            ('1','1'):'1'}"
   ]
  },
  {
   "cell_type": "code",
   "execution_count": 51,
   "metadata": {
    "collapsed": false
   },
   "outputs": [],
   "source": [
    "def effective_checksum(disk, checksum_dict):\n",
    "    if len(disk) % 2 == 1:\n",
    "        return disk\n",
    "    s = [x for x in range(len(disk)) if x % 2 == 0]\n",
    "    ss = [disk[x] for x in s]\n",
    "    e = [x for x in range(len(disk)) if x % 2 != 0]\n",
    "    ee = [disk[x] for x in e]\n",
    "\n",
    "    pairs = list(zip(ss,ee))\n",
    "\n",
    "    new = ''.join([checksum_dict[x] for x in pairs])\n",
    "    return effective_checksum(new, checksum_dict)"
   ]
  },
  {
   "cell_type": "code",
   "execution_count": 20,
   "metadata": {
    "collapsed": false
   },
   "outputs": [
    {
     "data": {
      "text/plain": [
       "'10101011110100011'"
      ]
     },
     "execution_count": 20,
     "metadata": {},
     "output_type": "execute_result"
    }
   ],
   "source": [
    "disk_size = 35651584\n",
    "disk = dragonCurve('00111101111101000',disk_size)[:disk_size]\n",
    "effective_checksum(disk)"
   ]
  },
  {
   "cell_type": "code",
   "execution_count": 53,
   "metadata": {
    "collapsed": true
   },
   "outputs": [],
   "source": [
    "disk_size = 35651584\n",
    "disk = dragonCurve('00111101111101000',disk_size)[:disk_size]"
   ]
  },
  {
   "cell_type": "code",
   "execution_count": 54,
   "metadata": {
    "collapsed": false
   },
   "outputs": [
    {
     "name": "stdout",
     "output_type": "stream",
     "text": [
      "1 loop, best of 3: 35 s per loop\n"
     ]
    }
   ],
   "source": [
    "%timeit checksum(disk)"
   ]
  },
  {
   "cell_type": "code",
   "execution_count": 55,
   "metadata": {
    "collapsed": false
   },
   "outputs": [
    {
     "name": "stdout",
     "output_type": "stream",
     "text": [
      "1 loop, best of 3: 24.3 s per loop\n"
     ]
    }
   ],
   "source": [
    "%timeit effective_checksum(disk, checksum_dict)"
   ]
  },
  {
   "cell_type": "code",
   "execution_count": null,
   "metadata": {
    "collapsed": true
   },
   "outputs": [],
   "source": []
  }
 ],
 "metadata": {
  "kernelspec": {
   "display_name": "Python 3",
   "language": "python",
   "name": "python3"
  },
  "language_info": {
   "codemirror_mode": {
    "name": "ipython",
    "version": 3
   },
   "file_extension": ".py",
   "mimetype": "text/x-python",
   "name": "python",
   "nbconvert_exporter": "python",
   "pygments_lexer": "ipython3",
   "version": "3.6.0"
  }
 },
 "nbformat": 4,
 "nbformat_minor": 2
}
